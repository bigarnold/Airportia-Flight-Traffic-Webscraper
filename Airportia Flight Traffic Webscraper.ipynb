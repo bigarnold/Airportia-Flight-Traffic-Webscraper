{
 "cells": [
  {
   "cell_type": "markdown",
   "metadata": {},
   "source": [
    "# Airportia.com Flight Traffic Webscraper"
   ]
  },
  {
   "cell_type": "markdown",
   "metadata": {},
   "source": [
    "This selenium-driven HTML webscraper plots total flights to or from a specified airport for a specified date range by origin or destination depending on whether the user chooses to investigate arrivals or departures. The unfortunate limitation here is that airportia.com only carries flight data for a week before dropping it from accessibility, thus the scraper would need to be run weekly in order to put together a long-term dataset. "
   ]
  },
  {
   "cell_type": "code",
   "execution_count": 1,
   "metadata": {},
   "outputs": [],
   "source": [
    "import pandas as pd\n",
    "import numpy as np \n",
    "import matplotlib.pyplot as plt\n",
    "import seaborn as sns\n",
    "\n",
    "import json\n",
    "\n",
    "import datetime as dt\n",
    "\n",
    "from ipywidgets import interact, interactive, fixed, interact_manual\n",
    "import ipywidgets as widgets\n",
    "from IPython.display import HTML, display\n",
    "from ipywidgets import Dropdown\n",
    "\n",
    "import selenium\n",
    "from selenium import webdriver\n",
    "from selenium.webdriver.support.ui import Select\n",
    "from selenium.webdriver.common.by import By\n",
    "from selenium.webdriver.support.ui import WebDriverWait\n",
    "from selenium.webdriver.support import expected_conditions as EC\n",
    "from selenium.webdriver.common.keys import Keys\n",
    "import time\n",
    "# from selenium.webdriver.support.expected_conditions import visibility_of_element_located"
   ]
  },
  {
   "cell_type": "code",
   "execution_count": 2,
   "metadata": {},
   "outputs": [],
   "source": [
    "chromeOptions = webdriver.ChromeOptions() \n",
    "chromeOptions.add_argument(\"enable-automation\")\n",
    "chromeOptions.add_argument(\"--disable-gpu\")\n",
    "chromeOptions.add_argument(\"--start-maximized\")\n",
    "chromeOptions.add_argument(\"--no-sandbox\")\n",
    "chromeOptions.add_argument(\"--disable-extensions\")\n",
    "chromeOptions.add_argument(\"--dns-prefetch-disable\")\n",
    "# chromeOptions.add_argument(\"--window-size=1920,1080\")\n",
    "# chromeOptions.add_argument(\"--headless\")\n",
    "\n",
    "# chromeOptions.add_argument(\"--proxy-server='direct://'\")\n",
    "# chromeOptions.add_argument(\"--proxy-bypass-list=*\")\n",
    "# chromeOptions.add_argument(\"--disable-dev-shm-usage\")\n",
    "# chromeOptions.add_argument(\"--ignore-certificate-errors\")\n",
    "# chromeOptions.add_experimental_option(\"excludeSwitches\", [\"enable-automation\"])\n",
    "# chromeOptions.add_experimental_option('useAutomationExtension', False)\n",
    "\n",
    "PATH = 'C:\\Program Files (x86)\\chromedriver.exe'"
   ]
  },
  {
   "cell_type": "code",
   "execution_count": 3,
   "metadata": {},
   "outputs": [],
   "source": [
    "# builds and saves a nested dictionary with Countries as keys, and key/value pair containing airports and links for their flight traffic info as values \n",
    "\n",
    "# driver = webdriver.Chrome(PATH,options=chromeOptions)\n",
    "# driver.get('https://www.airportia.com/airports/')\n",
    "\n",
    "# size = len(driver.find_elements_by_xpath('/html/body/div[2]/div[1]/div[6]/div/a'))\n",
    "# country_dict = {}\n",
    "# for i in range(1,size+1):\n",
    "#     path = \"/html/body/div[2]/div[1]/div[6]/div/a[{num}]\".format(num=i)\n",
    "#     data = driver.find_element_by_xpath(path).text\n",
    "#     data2 = driver.find_element_by_xpath(path).get_attribute(\"href\")\n",
    "#     country_dict[data] = data2    \n",
    "    \n",
    "# driver.quit()\n",
    "\n",
    "# country_dict2 = {}\n",
    "\n",
    "# for country, link in country_dict.items():\n",
    "#     driver = webdriver.Chrome(PATH,options=chromeOptions)\n",
    "#     driver.get(link)\n",
    "    \n",
    "#     airport_dict = {}\n",
    "#     size = len(driver.find_elements_by_xpath('/html/body/div[2]/div[1]/div[3]/div/a'))\n",
    "    \n",
    "#     for i in range(1,size+1):\n",
    "#         path2 = \"/html/body/div[2]/div[1]/div[3]/div/a[{num}]\".format(num=i)\n",
    "#         data = driver.find_element_by_xpath(path2).text\n",
    "#         data2 = driver.find_element_by_xpath(path2).get_attribute(\"href\")\n",
    "#         airport_dict[data] = data2\n",
    "    \n",
    "#     driver.quit()\n",
    "    \n",
    "#     country_dict2[country] = airport_dict    \n",
    "    \n",
    "# with open('cal', 'w') as fp:\n",
    "#     json.dump(country_dict2, fp)"
   ]
  },
  {
   "cell_type": "code",
   "execution_count": 4,
   "metadata": {},
   "outputs": [],
   "source": [
    "with open('cal','r') as fp:\n",
    "    cal = json.load(fp)"
   ]
  },
  {
   "cell_type": "code",
   "execution_count": 6,
   "metadata": {
    "scrolled": false
   },
   "outputs": [
    {
     "data": {
      "application/vnd.jupyter.widget-view+json": {
       "model_id": "c346048cb109443d823a366f7c746005",
       "version_major": 2,
       "version_minor": 0
      },
      "text/plain": [
       "interactive(children=(Button(description='Show Flights', style=ButtonStyle()), Output()), _dom_classes=('widge…"
      ]
     },
     "metadata": {},
     "output_type": "display_data"
    },
    {
     "data": {
      "application/vnd.jupyter.widget-view+json": {
       "model_id": "04ecfa90aee54810a93ef0fdecc78e29",
       "version_major": 2,
       "version_minor": 0
      },
      "text/plain": [
       "interactive(children=(Dropdown(description='country', options=('Afghanistan', 'Albania', 'Algeria', 'American …"
      ]
     },
     "metadata": {},
     "output_type": "display_data"
    },
    {
     "data": {
      "text/plain": [
       "<ipywidgets.widgets.interaction._InteractFactory at 0x21e8480b6a0>"
      ]
     },
     "metadata": {},
     "output_type": "display_data"
    }
   ],
   "source": [
    "def airport_linker():\n",
    "    \n",
    "    country = countryW.value\n",
    "    airport = airportW.value\n",
    "    aod = aodW.value\n",
    "    \n",
    "    airport_link = cal[country][airport]\n",
    "    \n",
    "    if aod == 'arrivals': \n",
    "        airport_link = airport_link + 'arrivals/'\n",
    "    elif aod == 'departures': \n",
    "        airport_link = airport_link + 'departures/'   \n",
    "        \n",
    "    driver = webdriver.Chrome(PATH,options=chromeOptions)\n",
    "    driver.get(airport_link)\n",
    "    \n",
    "    datevalues = []\n",
    "    for i in range(1,7): \n",
    "        date = dt.datetime.today() - dt.timedelta(days=i)\n",
    "        datevalues.append(date.strftime('%Y%m%d'))\n",
    "          \n",
    "    dfs = {}\n",
    "    for date in datevalues: \n",
    "        select1 = Select(driver.find_element_by_id('airport_{}_date_range_date'.format(aod)))\n",
    "        select1.select_by_value(date)\n",
    "        select2 = Select(driver.find_element_by_id('airport_{}_date_range_from_time'.format(aod)))\n",
    "        select2.select_by_value('0')\n",
    "        select3 = Select(driver.find_element_by_id('airport_{}_date_range_to_time'.format(aod)))\n",
    "        select3.select_by_value('23')\n",
    "        select4 = driver.find_element_by_id('airport_{}_go'.format(aod))\n",
    "        select5 = driver.find_element_by_xpath('//*[@id=\"airport_{}_go\"]'.format(aod))\n",
    "        driver.execute_script(\"arguments[0].click();\", select5)    \n",
    "    #     select5.click()\n",
    "        list_of_flights2 = []\n",
    "        \n",
    "        size = len(driver.find_elements_by_xpath('/html/body/div[2]/div[1]/div[2]/div[2]/table/tbody/tr'))\n",
    "        \n",
    "        for i in range(2,size+1):\n",
    "            row = []\n",
    "            for x in range(1,7):\n",
    "                path2 = \"/html/body/div[2]/div[1]/div[2]/div[2]/table/tbody/tr[{num}]/td[{num2}]\".format(num=i, num2=x)\n",
    "                try:\n",
    "                    dater = driver.find_element_by_xpath(path2).text\n",
    "                except:\n",
    "                    pass     \n",
    "                row.append(dater)\n",
    "            list_of_flights2.append(row)\n",
    "#         nan_value = float(\"NaN\")\n",
    "        \n",
    "        if aod == 'arrivals': \n",
    "            dfs[date] = pd.DataFrame(list_of_flights2,columns=['Flight','From','Airline','Scheduled','Arrival','Status'])\n",
    "            dfs[date]['Date'] = date\n",
    "        elif aod == 'departures': \n",
    "            dfs[date] = pd.DataFrame(list_of_flights2,columns=['Flight','To','Airline','Scheduled','Departure','Status'])\n",
    "            dfs[date]['Date'] = date\n",
    "        \n",
    "    driver.quit()\n",
    "    nan_value = float(\"NaN\")    \n",
    "    flights = pd.concat(dfs.values(),ignore_index=True)\n",
    "    flights['Flight'].replace(\"\", nan_value, inplace=True)\n",
    "    flights.dropna(subset = [\"Flight\"], inplace=True)\n",
    "    flights.reset_index(drop=True, inplace=True)\n",
    "    flights = flights[(flights['Status'] != 'CANCELLED') & (flights['Status'] != 'Unknown')]\n",
    "    flights = flights.drop_duplicates()\n",
    "    flights.reset_index(drop=True,inplace=True)\n",
    "   \n",
    "    if aod == 'arrivals': \n",
    "        col = 'From'\n",
    "    else: \n",
    "        col = 'To'\n",
    "    \n",
    "    flights_df = flights.drop(flights.columns[0],axis=1)\n",
    "    flights_df = pd.DataFrame(flights_df.groupby(col)['Airline'].value_counts()).unstack()\n",
    "    flights_df['sum'] = flights_df.sum(axis=1)\n",
    "    flights_df = flights_df.sort_values('sum',ascending=False)\n",
    "    flights_df.drop('sum',axis=1,inplace=True)\n",
    "    flights_df = flights_df.head(34)\n",
    "    flights_df = flights_df.dropna(axis=1,how='all')\n",
    "    flights_df = flights_df['Airline'].copy()\n",
    "    ax = flights_df.plot.barh(figsize=(15,15), colormap='tab20', xticks=range(0,60,5),grid=True,fontsize=20,stacked=True,width=.9)\n",
    "    ax.set_xlabel('Number of Flights',fontsize=20)\n",
    "    ax.set_ylabel('Destination',fontsize=20)\n",
    "    plt.title('{Airport} {Way} {Start} - {End} (Total: {Total})'.format(Airport=airport, Way=aod, Start=datevalues[-1], End=datevalues[0], Total=len(flights)),fontsize=25)\n",
    "    plt.legend(flights_df,fontsize=20)\n",
    "    ax.invert_yaxis()\n",
    "    plt.show()\n",
    "    \n",
    "#     return flights\n",
    "#     print(flights)\n",
    "\n",
    "def selections(country,airport,aod): \n",
    "    airportW.options = cal[countryW.value].keys()\n",
    "\n",
    "countryW = widgets.Dropdown(options=cal.keys())\n",
    "airportW = widgets.Dropdown(options=cal[countryW.value].keys())\n",
    "aodW = widgets.Dropdown(options=['arrivals','departures'],description='Arrivals or Departures')\n",
    "uno = widgets.interactive(selections, country=countryW, airport=airportW, aod=aodW)\n",
    "buttoner = interact_manual.options(manual_name=\"Show Flights\")\n",
    "buttoner(airport_linker)\n",
    "\n",
    "display(uno)   \n",
    "display(buttoner)"
   ]
  },
  {
   "cell_type": "code",
   "execution_count": null,
   "metadata": {},
   "outputs": [],
   "source": []
  }
 ],
 "metadata": {
  "kernelspec": {
   "display_name": "Python 3",
   "language": "python",
   "name": "python3"
  },
  "language_info": {
   "codemirror_mode": {
    "name": "ipython",
    "version": 3
   },
   "file_extension": ".py",
   "mimetype": "text/x-python",
   "name": "python",
   "nbconvert_exporter": "python",
   "pygments_lexer": "ipython3",
   "version": "3.8.3"
  },
  "widgets": {
   "application/vnd.jupyter.widget-state+json": {
    "state": {
     "0c878a47882447d586c8289116bbf334": {
      "model_module": "@jupyter-widgets/base",
      "model_module_version": "1.2.0",
      "model_name": "LayoutModel",
      "state": {}
     },
     "0d51a519568f43078d692ad0eb252215": {
      "model_module": "@jupyter-widgets/controls",
      "model_module_version": "1.5.0",
      "model_name": "ButtonModel",
      "state": {
       "description": "Show Flights",
       "layout": "IPY_MODEL_7e6758aff2a2482fbf85f6caa3f4635f",
       "style": "IPY_MODEL_994f5029ba8b488195832c89b0f35624"
      }
     },
     "2a377733a464463f8d2e74cb43e36fcf": {
      "model_module": "@jupyter-widgets/controls",
      "model_module_version": "1.5.0",
      "model_name": "DropdownModel",
      "state": {
       "_options_labels": [
        "arrivals",
        "departures"
       ],
       "description": "Arrivals or Departures",
       "index": 0,
       "layout": "IPY_MODEL_4228a498ebf949619656b3982a6d1540",
       "style": "IPY_MODEL_c482e5ca5be6495cbfe5ee6e25d39329"
      }
     },
     "2a6120f0db30452284a2ad88b7a8d9a7": {
      "model_module": "@jupyter-widgets/base",
      "model_module_version": "1.2.0",
      "model_name": "LayoutModel",
      "state": {}
     },
     "2ae34996a9ae4c1f8d0b9fbffe3d41ab": {
      "model_module": "@jupyter-widgets/base",
      "model_module_version": "1.2.0",
      "model_name": "LayoutModel",
      "state": {}
     },
     "2f5534c5cb584304836399c45bcccf01": {
      "model_module": "@jupyter-widgets/output",
      "model_module_version": "1.0.0",
      "model_name": "OutputModel",
      "state": {
       "layout": "IPY_MODEL_d80effde26674bde8a57532c92a2baf3",
       "outputs": [
        {
         "data": {
          "image/png": "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\n",
          "text/plain": "<Figure size 1080x1080 with 1 Axes>"
         },
         "metadata": {
          "needs_background": "light"
         },
         "output_type": "display_data"
        }
       ]
      }
     },
     "41ff92cee0e4456b9f2e0ac8671bffdb": {
      "model_module": "@jupyter-widgets/controls",
      "model_module_version": "1.5.0",
      "model_name": "VBoxModel",
      "state": {
       "_dom_classes": [
        "widget-interact"
       ],
       "children": [
        "IPY_MODEL_0d51a519568f43078d692ad0eb252215",
        "IPY_MODEL_2f5534c5cb584304836399c45bcccf01"
       ],
       "layout": "IPY_MODEL_2a6120f0db30452284a2ad88b7a8d9a7"
      }
     },
     "4228a498ebf949619656b3982a6d1540": {
      "model_module": "@jupyter-widgets/base",
      "model_module_version": "1.2.0",
      "model_name": "LayoutModel",
      "state": {}
     },
     "4d37f90ed8ae47b9aeb58f017ad5d8a2": {
      "model_module": "@jupyter-widgets/base",
      "model_module_version": "1.2.0",
      "model_name": "LayoutModel",
      "state": {}
     },
     "4f2784c1b3604af085cceee63ddda638": {
      "model_module": "@jupyter-widgets/controls",
      "model_module_version": "1.5.0",
      "model_name": "VBoxModel",
      "state": {
       "_dom_classes": [
        "widget-interact"
       ],
       "children": [
        "IPY_MODEL_f3ece485a6804d3fa229d7c56828bb42",
        "IPY_MODEL_c1ada0c56af949c6994954439a1f07be",
        "IPY_MODEL_2a377733a464463f8d2e74cb43e36fcf",
        "IPY_MODEL_7c118613eff54f9e9311034d348e0ec8"
       ],
       "layout": "IPY_MODEL_4d37f90ed8ae47b9aeb58f017ad5d8a2"
      }
     },
     "66cc38d0395f463fa25996771b3d8718": {
      "model_module": "@jupyter-widgets/controls",
      "model_module_version": "1.5.0",
      "model_name": "DescriptionStyleModel",
      "state": {
       "description_width": ""
      }
     },
     "7c118613eff54f9e9311034d348e0ec8": {
      "model_module": "@jupyter-widgets/output",
      "model_module_version": "1.0.0",
      "model_name": "OutputModel",
      "state": {
       "layout": "IPY_MODEL_819dc1a71f4e461a95f28936216e8cfb"
      }
     },
     "7e6758aff2a2482fbf85f6caa3f4635f": {
      "model_module": "@jupyter-widgets/base",
      "model_module_version": "1.2.0",
      "model_name": "LayoutModel",
      "state": {}
     },
     "819dc1a71f4e461a95f28936216e8cfb": {
      "model_module": "@jupyter-widgets/base",
      "model_module_version": "1.2.0",
      "model_name": "LayoutModel",
      "state": {}
     },
     "89931102ab8e488a82750486a5e02f04": {
      "model_module": "@jupyter-widgets/controls",
      "model_module_version": "1.5.0",
      "model_name": "DescriptionStyleModel",
      "state": {
       "description_width": ""
      }
     },
     "994f5029ba8b488195832c89b0f35624": {
      "model_module": "@jupyter-widgets/controls",
      "model_module_version": "1.5.0",
      "model_name": "ButtonStyleModel",
      "state": {}
     },
     "c1ada0c56af949c6994954439a1f07be": {
      "model_module": "@jupyter-widgets/controls",
      "model_module_version": "1.5.0",
      "model_name": "DropdownModel",
      "state": {
       "_options_labels": [
        "Kabul International Airport (KBL)",
        "Herat International Airport (HEA)",
        "Mazar-I-Sharif International Airport (MZR)",
        "Kandahar Airport (KDH)",
        "Khost Airport (KHT)",
        "Jalalabad Airport (JAA)",
        "Maimana Airport (MMZ)",
        "Konduz Airport (UND)",
        "Bost Airport (BST)",
        "Faizabad Airport (FBD)",
        "Farah Airport (FAH)",
        "Tarin Kowt Airport (TII)",
        "Zaranj Airport (ZAJ)"
       ],
       "description": "airport",
       "index": 0,
       "layout": "IPY_MODEL_2ae34996a9ae4c1f8d0b9fbffe3d41ab",
       "style": "IPY_MODEL_66cc38d0395f463fa25996771b3d8718"
      }
     },
     "c482e5ca5be6495cbfe5ee6e25d39329": {
      "model_module": "@jupyter-widgets/controls",
      "model_module_version": "1.5.0",
      "model_name": "DescriptionStyleModel",
      "state": {
       "description_width": ""
      }
     },
     "d80effde26674bde8a57532c92a2baf3": {
      "model_module": "@jupyter-widgets/base",
      "model_module_version": "1.2.0",
      "model_name": "LayoutModel",
      "state": {}
     },
     "f3ece485a6804d3fa229d7c56828bb42": {
      "model_module": "@jupyter-widgets/controls",
      "model_module_version": "1.5.0",
      "model_name": "DropdownModel",
      "state": {
       "_options_labels": [
        "Afghanistan",
        "Albania",
        "Algeria",
        "American Samoa",
        "Andorra",
        "Angola",
        "Anguilla",
        "Antarctica",
        "Antigua And Barbuda",
        "Argentina",
        "Armenia",
        "Aruba",
        "Australia",
        "Austria",
        "Azerbaijan",
        "Bahamas",
        "Bahrain",
        "Bangladesh",
        "Barbados",
        "Belarus",
        "Belgium",
        "Belize",
        "Benin",
        "Bermuda",
        "Bhutan",
        "Bolivia",
        "Bosnia And Herzegovina",
        "Botswana",
        "Brazil",
        "British Virgin Islands",
        "Brunei",
        "Bulgaria",
        "Burkina Faso",
        "Burma",
        "Burundi",
        "Cambodia",
        "Cameroon",
        "Canada",
        "Cape Verde",
        "Caribbean Netherlands",
        "Cayman Islands",
        "Central African Republic",
        "Chad",
        "Chile",
        "China",
        "Christmas Island",
        "Cocos (Keeling) Islands",
        "Colombia",
        "Comoros",
        "Congo",
        "Cook Islands",
        "Costa Rica",
        "Croatia",
        "Cuba",
        "Curacao",
        "Cyprus",
        "Czech Republic",
        "Denmark",
        "Djibouti",
        "Dominica",
        "Dominican Republic",
        "Ecuador",
        "Egypt",
        "El Salvador",
        "Equatorial Guinea",
        "Eritrea",
        "Estonia",
        "Ethiopia",
        "Falkland Islands (Malvinas)",
        "Faroe Islands",
        "Fiji",
        "Finland",
        "France",
        "French Guiana",
        "French Polynesia",
        "Gabon",
        "Gambia",
        "Georgia",
        "Germany",
        "Ghana",
        "Gibraltar",
        "Greece",
        "Greenland",
        "Grenada",
        "Guadeloupe",
        "Guam",
        "Guatemala",
        "Guernsey",
        "Guinea",
        "Guinea-Bissau",
        "Guyana",
        "Haiti",
        "Honduras",
        "Hong Kong",
        "Hungary",
        "Iceland",
        "India",
        "Indonesia",
        "Iran",
        "Iraq",
        "Ireland",
        "Isle of Man",
        "Israel",
        "Italy",
        "Ivory Coast",
        "Jamaica",
        "Japan",
        "Jersey",
        "Jordan",
        "Kazakhstan",
        "Kenya",
        "Kiribati",
        "Kosovo",
        "Kuwait",
        "Kyrgyzstan",
        "Laos",
        "Latvia",
        "Lebanon",
        "Lesotho",
        "Liberia",
        "Libya",
        "Lithuania",
        "Luxembourg",
        "Macau",
        "Madagascar",
        "Malawi",
        "Malaysia",
        "Maldives",
        "Mali",
        "Malta",
        "Marshall Islands",
        "Martinique",
        "Mauritania",
        "Mauritius",
        "Mayotte",
        "Mexico",
        "Micronesia",
        "Moldova",
        "Monaco",
        "Mongolia",
        "Montenegro",
        "Montserrat",
        "Morocco",
        "Mozambique",
        "Myanmar (Burma)",
        "Namibia",
        "Nauru",
        "Nepal",
        "Netherlands",
        "New Caledonia",
        "New Zealand",
        "Nicaragua",
        "Niger",
        "Nigeria",
        "Niue",
        "Norfolk Island",
        "North Korea",
        "North Macedonia",
        "Northern Mariana Islands",
        "Norway",
        "Oman",
        "Pakistan",
        "Palau",
        "Palestinian Territory",
        "Panama",
        "Papua New Guinea",
        "Paraguay",
        "Perú",
        "Philippines",
        "Poland",
        "Portugal",
        "Puerto Rico",
        "Qatar",
        "Reunion",
        "Romania",
        "Russia",
        "Rwanda",
        "Saint Barthélemy",
        "Saint Helena",
        "Saint Kitts And Nevis",
        "Saint Lucia",
        "Saint Martin",
        "Saint Pierre and Miquelon",
        "Saint Vincent and the Grenadines",
        "Samoa",
        "São Tomé and Principe",
        "Saudi Arabia",
        "Senegal",
        "Serbia",
        "Seychelles",
        "Sierra Leone",
        "Singapore",
        "Sint Maarten",
        "Slovakia",
        "Slovenia",
        "Solomon Islands",
        "Somalia",
        "South Africa",
        "South Korea",
        "South Sudan",
        "Spain",
        "Sri Lanka",
        "Sudan",
        "Suriname",
        "Swaziland",
        "Sweden",
        "Switzerland",
        "Syria",
        "Taiwan",
        "Tajikistan",
        "Tanzania",
        "Thailand",
        "Timor-Leste",
        "Togo",
        "Tonga",
        "Trinidad And Tobago",
        "Tunisia",
        "Turkey",
        "Turkmenistan",
        "Turks and Caicos Islands",
        "Tuvalu",
        "U.S. Virgin Islands",
        "Uganda",
        "Ukraine",
        "United Arab Emirates",
        "United Kingdom",
        "United States",
        "United States Minor Outlying Islands",
        "Uruguay",
        "Uzbekistan",
        "Vanuatu",
        "Venezuela",
        "Vietnam",
        "Wallis And Futuna",
        "Western Sahara",
        "Yemen",
        "Zambia",
        "Zimbabwe"
       ],
       "description": "country",
       "index": 0,
       "layout": "IPY_MODEL_0c878a47882447d586c8289116bbf334",
       "style": "IPY_MODEL_89931102ab8e488a82750486a5e02f04"
      }
     }
    },
    "version_major": 2,
    "version_minor": 0
   }
  }
 },
 "nbformat": 4,
 "nbformat_minor": 4
}
