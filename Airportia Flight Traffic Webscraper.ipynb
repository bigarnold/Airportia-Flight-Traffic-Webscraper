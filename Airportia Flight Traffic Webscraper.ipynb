{
 "cells": [
  {
   "cell_type": "markdown",
   "metadata": {},
   "source": [
    "# Airportia.com Flight Traffic Webscraper"
   ]
  },
  {
   "cell_type": "markdown",
   "metadata": {},
   "source": [
    "This selenium-driven HTML webscraper plots total flights to or from a specified airport for a specified date range by origin or destination depending on whether the user chooses to investigate arrivals or departures. The unfortunate limitation here is that airportia.com only carries flight data for a week before dropping it from accessibility, thus the scraper would need to be run weekly in order to put together a long-term dataset. "
   ]
  },
  {
   "cell_type": "code",
   "execution_count": 1,
   "metadata": {},
   "outputs": [],
   "source": [
    "import pandas as pd\n",
    "import numpy as np \n",
    "import matplotlib.pyplot as plt\n",
    "import seaborn as sns\n",
    "\n",
    "import json\n",
    "\n",
    "import datetime as dt\n",
    "\n",
    "from ipywidgets import interact, interactive, fixed, interact_manual\n",
    "import ipywidgets as widgets\n",
    "from IPython.display import HTML, display\n",
    "from ipywidgets import Dropdown\n",
    "\n",
    "import selenium\n",
    "from selenium import webdriver\n",
    "from selenium.webdriver.support.ui import Select\n",
    "from selenium.webdriver.common.by import By\n",
    "from selenium.webdriver.support.ui import WebDriverWait\n",
    "from selenium.webdriver.support import expected_conditions as EC\n",
    "from selenium.webdriver.common.keys import Keys\n",
    "import time\n",
    "# from selenium.webdriver.support.expected_conditions import visibility_of_element_located"
   ]
  },
  {
   "cell_type": "code",
   "execution_count": 2,
   "metadata": {},
   "outputs": [],
   "source": [
    "chromeOptions = webdriver.ChromeOptions() \n",
    "chromeOptions.add_argument(\"enable-automation\")\n",
    "chromeOptions.add_argument(\"--disable-gpu\")\n",
    "chromeOptions.add_argument(\"--start-maximized\")\n",
    "chromeOptions.add_argument(\"--no-sandbox\")\n",
    "chromeOptions.add_argument(\"--disable-extensions\")\n",
    "chromeOptions.add_argument(\"--dns-prefetch-disable\")\n",
    "# chromeOptions.add_argument(\"--window-size=1920,1080\")\n",
    "# chromeOptions.add_argument(\"--headless\")\n",
    "\n",
    "# chromeOptions.add_argument(\"--proxy-server='direct://'\")\n",
    "# chromeOptions.add_argument(\"--proxy-bypass-list=*\")\n",
    "# chromeOptions.add_argument(\"--disable-dev-shm-usage\")\n",
    "# chromeOptions.add_argument(\"--ignore-certificate-errors\")\n",
    "# chromeOptions.add_experimental_option(\"excludeSwitches\", [\"enable-automation\"])\n",
    "# chromeOptions.add_experimental_option('useAutomationExtension', False)\n",
    "\n",
    "PATH = 'C:\\Program Files (x86)\\chromedriver.exe'"
   ]
  },
  {
   "cell_type": "code",
   "execution_count": 3,
   "metadata": {},
   "outputs": [],
   "source": [
    "# builds and saves a nested dictionary with Countries as keys, and key/value pair containing airports and links for their flight traffic info as values \n",
    "\n",
    "# driver = webdriver.Chrome(PATH,options=chromeOptions)\n",
    "# driver.get('https://www.airportia.com/airports/')\n",
    "\n",
    "# size = len(driver.find_elements_by_xpath('/html/body/div[2]/div[1]/div[6]/div/a'))\n",
    "# country_dict = {}\n",
    "# for i in range(1,size+1):\n",
    "#     path = \"/html/body/div[2]/div[1]/div[6]/div/a[{num}]\".format(num=i)\n",
    "#     data = driver.find_element_by_xpath(path).text\n",
    "#     data2 = driver.find_element_by_xpath(path).get_attribute(\"href\")\n",
    "#     country_dict[data] = data2    \n",
    "    \n",
    "# driver.quit()\n",
    "\n",
    "# country_dict2 = {}\n",
    "\n",
    "# for country, link in country_dict.items():\n",
    "#     driver = webdriver.Chrome(PATH,options=chromeOptions)\n",
    "#     driver.get(link)\n",
    "    \n",
    "#     airport_dict = {}\n",
    "#     size = len(driver.find_elements_by_xpath('/html/body/div[2]/div[1]/div[3]/div/a'))\n",
    "    \n",
    "#     for i in range(1,size+1):\n",
    "#         path2 = \"/html/body/div[2]/div[1]/div[3]/div/a[{num}]\".format(num=i)\n",
    "#         data = driver.find_element_by_xpath(path2).text\n",
    "#         data2 = driver.find_element_by_xpath(path2).get_attribute(\"href\")\n",
    "#         airport_dict[data] = data2\n",
    "    \n",
    "#     driver.quit()\n",
    "    \n",
    "#     country_dict2[country] = airport_dict    \n",
    "    \n",
    "# with open('cal', 'w') as fp:\n",
    "#     json.dump(country_dict2, fp)"
   ]
  },
  {
   "cell_type": "code",
   "execution_count": 4,
   "metadata": {},
   "outputs": [],
   "source": [
    "with open('cal','r') as fp:\n",
    "    cal = json.load(fp)"
   ]
  },
  {
   "cell_type": "code",
   "execution_count": 6,
   "metadata": {
    "scrolled": false
   },
   "outputs": [
    {
     "data": {
      "application/vnd.jupyter.widget-view+json": {
       "model_id": "c346048cb109443d823a366f7c746005",
       "version_major": 2,
       "version_minor": 0
      },
      "text/plain": [
       "interactive(children=(Button(description='Show Flights', style=ButtonStyle()), Output()), _dom_classes=('widge…"
      ]
     },
     "metadata": {},
     "output_type": "display_data"
    },
    {
     "data": {
      "application/vnd.jupyter.widget-view+json": {
       "model_id": "04ecfa90aee54810a93ef0fdecc78e29",
       "version_major": 2,
       "version_minor": 0
      },
      "text/plain": [
       "interactive(children=(Dropdown(description='country', options=('Afghanistan', 'Albania', 'Algeria', 'American …"
      ]
     },
     "metadata": {},
     "output_type": "display_data"
    },
    {
     "data": {
      "text/plain": [
       "<ipywidgets.widgets.interaction._InteractFactory at 0x21e8480b6a0>"
      ]
     },
     "metadata": {},
     "output_type": "display_data"
    }
   ],
   "source": [
    "def airport_linker():\n",
    "    \n",
    "    country = countryW.value\n",
    "    airport = airportW.value\n",
    "    aod = aodW.value\n",
    "    \n",
    "    airport_link = cal[country][airport]\n",
    "    \n",
    "    if aod == 'arrivals': \n",
    "        airport_link = airport_link + 'arrivals/'\n",
    "    elif aod == 'departures': \n",
    "        airport_link = airport_link + 'departures/'   \n",
    "        \n",
    "    driver = webdriver.Chrome(PATH,options=chromeOptions)\n",
    "    driver.get(airport_link)\n",
    "    \n",
    "    datevalues = []\n",
    "    for i in range(1,7): \n",
    "        date = dt.datetime.today() - dt.timedelta(days=i)\n",
    "        datevalues.append(date.strftime('%Y%m%d'))\n",
    "          \n",
    "    dfs = {}\n",
    "    for date in datevalues: \n",
    "        select1 = Select(driver.find_element_by_id('airport_{}_date_range_date'.format(aod)))\n",
    "        select1.select_by_value(date)\n",
    "        select2 = Select(driver.find_element_by_id('airport_{}_date_range_from_time'.format(aod)))\n",
    "        select2.select_by_value('0')\n",
    "        select3 = Select(driver.find_element_by_id('airport_{}_date_range_to_time'.format(aod)))\n",
    "        select3.select_by_value('23')\n",
    "        select4 = driver.find_element_by_id('airport_{}_go'.format(aod))\n",
    "        select5 = driver.find_element_by_xpath('//*[@id=\"airport_{}_go\"]'.format(aod))\n",
    "        driver.execute_script(\"arguments[0].click();\", select5)    \n",
    "    #     select5.click()\n",
    "        list_of_flights2 = []\n",
    "        \n",
    "        size = len(driver.find_elements_by_xpath('/html/body/div[2]/div[1]/div[2]/div[2]/table/tbody/tr'))\n",
    "        \n",
    "        for i in range(2,size+1):\n",
    "            row = []\n",
    "            for x in range(1,7):\n",
    "                path2 = \"/html/body/div[2]/div[1]/div[2]/div[2]/table/tbody/tr[{num}]/td[{num2}]\".format(num=i, num2=x)\n",
    "                try:\n",
    "                    dater = driver.find_element_by_xpath(path2).text\n",
    "                except:\n",
    "                    pass     \n",
    "                row.append(dater)\n",
    "            list_of_flights2.append(row)\n",
    "#         nan_value = float(\"NaN\")\n",
    "        \n",
    "        if aod == 'arrivals': \n",
    "            dfs[date] = pd.DataFrame(list_of_flights2,columns=['Flight','From','Airline','Scheduled','Arrival','Status'])\n",
    "            dfs[date]['Date'] = date\n",
    "        elif aod == 'departures': \n",
    "            dfs[date] = pd.DataFrame(list_of_flights2,columns=['Flight','To','Airline','Scheduled','Departure','Status'])\n",
    "            dfs[date]['Date'] = date\n",
    "        \n",
    "    driver.quit()\n",
    "    nan_value = float(\"NaN\")    \n",
    "    flights = pd.concat(dfs.values(),ignore_index=True)\n",
    "    flights['Flight'].replace(\"\", nan_value, inplace=True)\n",
    "    flights.dropna(subset = [\"Flight\"], inplace=True)\n",
    "    flights.reset_index(drop=True, inplace=True)\n",
    "    flights = flights[(flights['Status'] != 'CANCELLED') & (flights['Status'] != 'Unknown')]\n",
    "    flights = flights.drop_duplicates()\n",
    "    flights.reset_index(drop=True,inplace=True)\n",
    "   \n",
    "    if aod == 'arrivals': \n",
    "        col = 'From'\n",
    "    else: \n",
    "        col = 'To'\n",
    "    \n",
    "    flights_df = flights.drop(flights.columns[0],axis=1)\n",
    "    flights_df = pd.DataFrame(flights_df.groupby(col)['Airline'].value_counts()).unstack()\n",
    "    flights_df['sum'] = flights_df.sum(axis=1)\n",
    "    flights_df = flights_df.sort_values('sum',ascending=False)\n",
    "    flights_df.drop('sum',axis=1,inplace=True)\n",
    "    flights_df = flights_df.head(34)\n",
    "    flights_df = flights_df.dropna(axis=1,how='all')\n",
    "    flights_df = flights_df['Airline'].copy()\n",
    "    ax = flights_df.plot.barh(figsize=(15,15), colormap='tab20', xticks=range(0,60,5),grid=True,fontsize=20,stacked=True,width=.9)\n",
    "    ax.set_xlabel('Number of Flights',fontsize=20)\n",
    "    ax.set_ylabel('Destination',fontsize=20)\n",
    "    plt.title('{Airport} {Way} {Start} - {End} (Total: {Total})'.format(Airport=airport, Way=aod, Start=datevalues[-1], End=datevalues[0], Total=len(flights)),fontsize=25)\n",
    "    plt.legend(flights_df,fontsize=20)\n",
    "    ax.invert_yaxis()\n",
    "    plt.show()\n",
    "    \n",
    "#     return flights\n",
    "#     print(flights)\n",
    "\n",
    "def selections(country,airport,aod): \n",
    "    airportW.options = cal[countryW.value].keys()\n",
    "\n",
    "countryW = widgets.Dropdown(options=cal.keys())\n",
    "airportW = widgets.Dropdown(options=cal[countryW.value].keys())\n",
    "aodW = widgets.Dropdown(options=['arrivals','departures'],description='Arrivals or Departures')\n",
    "uno = widgets.interactive(selections, country=countryW, airport=airportW, aod=aodW)\n",
    "buttoner = interact_manual.options(manual_name=\"Show Flights\")\n",
    "buttoner(airport_linker)\n",
    "\n",
    "display(uno)   \n",
    "display(buttoner)"
   ]
  },
  {
   "cell_type": "code",
   "execution_count": null,
   "metadata": {},
   "outputs": [],
   "source": []
  }
 ],
 "metadata": {
  "kernelspec": {
   "display_name": "Python 3",
   "language": "python",
   "name": "python3"
  },
  "language_info": {
   "codemirror_mode": {
    "name": "ipython",
    "version": 3
   },
   "file_extension": ".py",
   "mimetype": "text/x-python",
   "name": "python",
   "nbconvert_exporter": "python",
   "pygments_lexer": "ipython3",
   "version": "3.8.3"
  },
  "widgets": {
   "application/vnd.jupyter.widget-state+json": {
    "state": {
     "04ecfa90aee54810a93ef0fdecc78e29": {
      "model_module": "@jupyter-widgets/controls",
      "model_module_version": "1.5.0",
      "model_name": "VBoxModel",
      "state": {
       "_dom_classes": [
        "widget-interact"
       ],
       "children": [
        "IPY_MODEL_4120ee3155444385ba48575cae3bb321",
        "IPY_MODEL_e0f6347c4d7549c79995472bf693bfba",
        "IPY_MODEL_4707a108a1a3484d93031c07426aad66",
        "IPY_MODEL_79550ecc3d6d4d918cc68921ca595e4c"
       ],
       "layout": "IPY_MODEL_bf2373e0a33347779b0ac619b06d826b"
      }
     },
     "0c878a47882447d586c8289116bbf334": {
      "model_module": "@jupyter-widgets/base",
      "model_module_version": "1.2.0",
      "model_name": "LayoutModel",
      "state": {}
     },
     "0d51a519568f43078d692ad0eb252215": {
      "model_module": "@jupyter-widgets/controls",
      "model_module_version": "1.5.0",
      "model_name": "ButtonModel",
      "state": {
       "description": "Show Flights",
       "layout": "IPY_MODEL_7e6758aff2a2482fbf85f6caa3f4635f",
       "style": "IPY_MODEL_994f5029ba8b488195832c89b0f35624"
      }
     },
     "2a377733a464463f8d2e74cb43e36fcf": {
      "model_module": "@jupyter-widgets/controls",
      "model_module_version": "1.5.0",
      "model_name": "DropdownModel",
      "state": {
       "_options_labels": [
        "arrivals",
        "departures"
       ],
       "description": "Arrivals or Departures",
       "index": 0,
       "layout": "IPY_MODEL_4228a498ebf949619656b3982a6d1540",
       "style": "IPY_MODEL_c482e5ca5be6495cbfe5ee6e25d39329"
      }
     },
     "2a6120f0db30452284a2ad88b7a8d9a7": {
      "model_module": "@jupyter-widgets/base",
      "model_module_version": "1.2.0",
      "model_name": "LayoutModel",
      "state": {}
     },
     "2ae34996a9ae4c1f8d0b9fbffe3d41ab": {
      "model_module": "@jupyter-widgets/base",
      "model_module_version": "1.2.0",
      "model_name": "LayoutModel",
      "state": {}
     },
     "2f5534c5cb584304836399c45bcccf01": {
      "model_module": "@jupyter-widgets/output",
      "model_module_version": "1.0.0",
      "model_name": "OutputModel",
      "state": {
       "layout": "IPY_MODEL_d80effde26674bde8a57532c92a2baf3",
       "outputs": [
        {
         "data": {
          "image/png": "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\n",
          "text/plain": "<Figure size 1080x1080 with 1 Axes>"
         },
         "metadata": {
          "needs_background": "light"
         },
         "output_type": "display_data"
        }
       ]
      }
     },
     "35dcbbf0acff4cc58762a67b0ab23974": {
      "model_module": "@jupyter-widgets/controls",
      "model_module_version": "1.5.0",
      "model_name": "DescriptionStyleModel",
      "state": {
       "description_width": ""
      }
     },
     "4120ee3155444385ba48575cae3bb321": {
      "model_module": "@jupyter-widgets/controls",
      "model_module_version": "1.5.0",
      "model_name": "DropdownModel",
      "state": {
       "_options_labels": [
        "Afghanistan",
        "Albania",
        "Algeria",
        "American Samoa",
        "Andorra",
        "Angola",
        "Anguilla",
        "Antarctica",
        "Antigua And Barbuda",
        "Argentina",
        "Armenia",
        "Aruba",
        "Australia",
        "Austria",
        "Azerbaijan",
        "Bahamas",
        "Bahrain",
        "Bangladesh",
        "Barbados",
        "Belarus",
        "Belgium",
        "Belize",
        "Benin",
        "Bermuda",
        "Bhutan",
        "Bolivia",
        "Bosnia And Herzegovina",
        "Botswana",
        "Brazil",
        "British Virgin Islands",
        "Brunei",
        "Bulgaria",
        "Burkina Faso",
        "Burma",
        "Burundi",
        "Cambodia",
        "Cameroon",
        "Canada",
        "Cape Verde",
        "Caribbean Netherlands",
        "Cayman Islands",
        "Central African Republic",
        "Chad",
        "Chile",
        "China",
        "Christmas Island",
        "Cocos (Keeling) Islands",
        "Colombia",
        "Comoros",
        "Congo",
        "Cook Islands",
        "Costa Rica",
        "Croatia",
        "Cuba",
        "Curacao",
        "Cyprus",
        "Czech Republic",
        "Denmark",
        "Djibouti",
        "Dominica",
        "Dominican Republic",
        "Ecuador",
        "Egypt",
        "El Salvador",
        "Equatorial Guinea",
        "Eritrea",
        "Estonia",
        "Ethiopia",
        "Falkland Islands (Malvinas)",
        "Faroe Islands",
        "Fiji",
        "Finland",
        "France",
        "French Guiana",
        "French Polynesia",
        "Gabon",
        "Gambia",
        "Georgia",
        "Germany",
        "Ghana",
        "Gibraltar",
        "Greece",
        "Greenland",
        "Grenada",
        "Guadeloupe",
        "Guam",
        "Guatemala",
        "Guernsey",
        "Guinea",
        "Guinea-Bissau",
        "Guyana",
        "Haiti",
        "Honduras",
        "Hong Kong",
        "Hungary",
        "Iceland",
        "India",
        "Indonesia",
        "Iran",
        "Iraq",
        "Ireland",
        "Isle of Man",
        "Israel",
        "Italy",
        "Ivory Coast",
        "Jamaica",
        "Japan",
        "Jersey",
        "Jordan",
        "Kazakhstan",
        "Kenya",
        "Kiribati",
        "Kosovo",
        "Kuwait",
        "Kyrgyzstan",
        "Laos",
        "Latvia",
        "Lebanon",
        "Lesotho",
        "Liberia",
        "Libya",
        "Lithuania",
        "Luxembourg",
        "Macau",
        "Madagascar",
        "Malawi",
        "Malaysia",
        "Maldives",
        "Mali",
        "Malta",
        "Marshall Islands",
        "Martinique",
        "Mauritania",
        "Mauritius",
        "Mayotte",
        "Mexico",
        "Micronesia",
        "Moldova",
        "Monaco",
        "Mongolia",
        "Montenegro",
        "Montserrat",
        "Morocco",
        "Mozambique",
        "Myanmar (Burma)",
        "Namibia",
        "Nauru",
        "Nepal",
        "Netherlands",
        "New Caledonia",
        "New Zealand",
        "Nicaragua",
        "Niger",
        "Nigeria",
        "Niue",
        "Norfolk Island",
        "North Korea",
        "North Macedonia",
        "Northern Mariana Islands",
        "Norway",
        "Oman",
        "Pakistan",
        "Palau",
        "Palestinian Territory",
        "Panama",
        "Papua New Guinea",
        "Paraguay",
        "Perú",
        "Philippines",
        "Poland",
        "Portugal",
        "Puerto Rico",
        "Qatar",
        "Reunion",
        "Romania",
        "Russia",
        "Rwanda",
        "Saint Barthélemy",
        "Saint Helena",
        "Saint Kitts And Nevis",
        "Saint Lucia",
        "Saint Martin",
        "Saint Pierre and Miquelon",
        "Saint Vincent and the Grenadines",
        "Samoa",
        "São Tomé and Principe",
        "Saudi Arabia",
        "Senegal",
        "Serbia",
        "Seychelles",
        "Sierra Leone",
        "Singapore",
        "Sint Maarten",
        "Slovakia",
        "Slovenia",
        "Solomon Islands",
        "Somalia",
        "South Africa",
        "South Korea",
        "South Sudan",
        "Spain",
        "Sri Lanka",
        "Sudan",
        "Suriname",
        "Swaziland",
        "Sweden",
        "Switzerland",
        "Syria",
        "Taiwan",
        "Tajikistan",
        "Tanzania",
        "Thailand",
        "Timor-Leste",
        "Togo",
        "Tonga",
        "Trinidad And Tobago",
        "Tunisia",
        "Turkey",
        "Turkmenistan",
        "Turks and Caicos Islands",
        "Tuvalu",
        "U.S. Virgin Islands",
        "Uganda",
        "Ukraine",
        "United Arab Emirates",
        "United Kingdom",
        "United States",
        "United States Minor Outlying Islands",
        "Uruguay",
        "Uzbekistan",
        "Vanuatu",
        "Venezuela",
        "Vietnam",
        "Wallis And Futuna",
        "Western Sahara",
        "Yemen",
        "Zambia",
        "Zimbabwe"
       ],
       "description": "country",
       "index": 0,
       "layout": "IPY_MODEL_836decd81d79439fac2b125d9dc9443d",
       "style": "IPY_MODEL_cc70989069da4292be5de912c22545d5"
      }
     },
     "41ff92cee0e4456b9f2e0ac8671bffdb": {
      "model_module": "@jupyter-widgets/controls",
      "model_module_version": "1.5.0",
      "model_name": "VBoxModel",
      "state": {
       "_dom_classes": [
        "widget-interact"
       ],
       "children": [
        "IPY_MODEL_0d51a519568f43078d692ad0eb252215",
        "IPY_MODEL_2f5534c5cb584304836399c45bcccf01"
       ],
       "layout": "IPY_MODEL_2a6120f0db30452284a2ad88b7a8d9a7"
      }
     },
     "4228a498ebf949619656b3982a6d1540": {
      "model_module": "@jupyter-widgets/base",
      "model_module_version": "1.2.0",
      "model_name": "LayoutModel",
      "state": {}
     },
     "4707a108a1a3484d93031c07426aad66": {
      "model_module": "@jupyter-widgets/controls",
      "model_module_version": "1.5.0",
      "model_name": "DropdownModel",
      "state": {
       "_options_labels": [
        "arrivals",
        "departures"
       ],
       "description": "Arrivals or Departures",
       "index": 0,
       "layout": "IPY_MODEL_b6b43f39b8db4fd9b8bb2f62fbd96d59",
       "style": "IPY_MODEL_35dcbbf0acff4cc58762a67b0ab23974"
      }
     },
     "4c3d0fd3d697433a9d5441ac1d11e142": {
      "model_module": "@jupyter-widgets/base",
      "model_module_version": "1.2.0",
      "model_name": "LayoutModel",
      "state": {}
     },
     "4d37f90ed8ae47b9aeb58f017ad5d8a2": {
      "model_module": "@jupyter-widgets/base",
      "model_module_version": "1.2.0",
      "model_name": "LayoutModel",
      "state": {}
     },
     "4dcb7e9ebf284dbbbdbe474e717d1064": {
      "model_module": "@jupyter-widgets/output",
      "model_module_version": "1.0.0",
      "model_name": "OutputModel",
      "state": {
       "layout": "IPY_MODEL_fa0f1d3056e747e1ad0595e974123f13",
       "outputs": [
        {
         "data": {
          "image/png": "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\n",
          "text/plain": "<Figure size 1080x1080 with 1 Axes>"
         },
         "metadata": {
          "needs_background": "light"
         },
         "output_type": "display_data"
        }
       ]
      }
     },
     "4f2784c1b3604af085cceee63ddda638": {
      "model_module": "@jupyter-widgets/controls",
      "model_module_version": "1.5.0",
      "model_name": "VBoxModel",
      "state": {
       "_dom_classes": [
        "widget-interact"
       ],
       "children": [
        "IPY_MODEL_f3ece485a6804d3fa229d7c56828bb42",
        "IPY_MODEL_c1ada0c56af949c6994954439a1f07be",
        "IPY_MODEL_2a377733a464463f8d2e74cb43e36fcf",
        "IPY_MODEL_7c118613eff54f9e9311034d348e0ec8"
       ],
       "layout": "IPY_MODEL_4d37f90ed8ae47b9aeb58f017ad5d8a2"
      }
     },
     "566ce974b1f144bd919f85b6209fcfe7": {
      "model_module": "@jupyter-widgets/base",
      "model_module_version": "1.2.0",
      "model_name": "LayoutModel",
      "state": {}
     },
     "66cc38d0395f463fa25996771b3d8718": {
      "model_module": "@jupyter-widgets/controls",
      "model_module_version": "1.5.0",
      "model_name": "DescriptionStyleModel",
      "state": {
       "description_width": ""
      }
     },
     "6bed075e878343718e7d52b765afc30e": {
      "model_module": "@jupyter-widgets/base",
      "model_module_version": "1.2.0",
      "model_name": "LayoutModel",
      "state": {}
     },
     "71e69b4a81274ad0ab9b44d369c30a9f": {
      "model_module": "@jupyter-widgets/controls",
      "model_module_version": "1.5.0",
      "model_name": "DescriptionStyleModel",
      "state": {
       "description_width": ""
      }
     },
     "79550ecc3d6d4d918cc68921ca595e4c": {
      "model_module": "@jupyter-widgets/output",
      "model_module_version": "1.0.0",
      "model_name": "OutputModel",
      "state": {
       "layout": "IPY_MODEL_6bed075e878343718e7d52b765afc30e"
      }
     },
     "7c118613eff54f9e9311034d348e0ec8": {
      "model_module": "@jupyter-widgets/output",
      "model_module_version": "1.0.0",
      "model_name": "OutputModel",
      "state": {
       "layout": "IPY_MODEL_819dc1a71f4e461a95f28936216e8cfb"
      }
     },
     "7e6758aff2a2482fbf85f6caa3f4635f": {
      "model_module": "@jupyter-widgets/base",
      "model_module_version": "1.2.0",
      "model_name": "LayoutModel",
      "state": {}
     },
     "819dc1a71f4e461a95f28936216e8cfb": {
      "model_module": "@jupyter-widgets/base",
      "model_module_version": "1.2.0",
      "model_name": "LayoutModel",
      "state": {}
     },
     "836decd81d79439fac2b125d9dc9443d": {
      "model_module": "@jupyter-widgets/base",
      "model_module_version": "1.2.0",
      "model_name": "LayoutModel",
      "state": {}
     },
     "89931102ab8e488a82750486a5e02f04": {
      "model_module": "@jupyter-widgets/controls",
      "model_module_version": "1.5.0",
      "model_name": "DescriptionStyleModel",
      "state": {
       "description_width": ""
      }
     },
     "994f5029ba8b488195832c89b0f35624": {
      "model_module": "@jupyter-widgets/controls",
      "model_module_version": "1.5.0",
      "model_name": "ButtonStyleModel",
      "state": {}
     },
     "9a9b989d2ff2404bbbf06dca498bcd35": {
      "model_module": "@jupyter-widgets/controls",
      "model_module_version": "1.5.0",
      "model_name": "ButtonModel",
      "state": {
       "description": "Show Flights",
       "layout": "IPY_MODEL_566ce974b1f144bd919f85b6209fcfe7",
       "style": "IPY_MODEL_cbfd553657de4a99aaac1c1803555754"
      }
     },
     "a8f6e075c56b4465b5440c3c27e45787": {
      "model_module": "@jupyter-widgets/base",
      "model_module_version": "1.2.0",
      "model_name": "LayoutModel",
      "state": {}
     },
     "b6b43f39b8db4fd9b8bb2f62fbd96d59": {
      "model_module": "@jupyter-widgets/base",
      "model_module_version": "1.2.0",
      "model_name": "LayoutModel",
      "state": {}
     },
     "bf2373e0a33347779b0ac619b06d826b": {
      "model_module": "@jupyter-widgets/base",
      "model_module_version": "1.2.0",
      "model_name": "LayoutModel",
      "state": {}
     },
     "c1ada0c56af949c6994954439a1f07be": {
      "model_module": "@jupyter-widgets/controls",
      "model_module_version": "1.5.0",
      "model_name": "DropdownModel",
      "state": {
       "_options_labels": [
        "Kabul International Airport (KBL)",
        "Herat International Airport (HEA)",
        "Mazar-I-Sharif International Airport (MZR)",
        "Kandahar Airport (KDH)",
        "Khost Airport (KHT)",
        "Jalalabad Airport (JAA)",
        "Maimana Airport (MMZ)",
        "Konduz Airport (UND)",
        "Bost Airport (BST)",
        "Faizabad Airport (FBD)",
        "Farah Airport (FAH)",
        "Tarin Kowt Airport (TII)",
        "Zaranj Airport (ZAJ)"
       ],
       "description": "airport",
       "index": 0,
       "layout": "IPY_MODEL_2ae34996a9ae4c1f8d0b9fbffe3d41ab",
       "style": "IPY_MODEL_66cc38d0395f463fa25996771b3d8718"
      }
     },
     "c346048cb109443d823a366f7c746005": {
      "model_module": "@jupyter-widgets/controls",
      "model_module_version": "1.5.0",
      "model_name": "VBoxModel",
      "state": {
       "_dom_classes": [
        "widget-interact"
       ],
       "children": [
        "IPY_MODEL_9a9b989d2ff2404bbbf06dca498bcd35",
        "IPY_MODEL_4dcb7e9ebf284dbbbdbe474e717d1064"
       ],
       "layout": "IPY_MODEL_a8f6e075c56b4465b5440c3c27e45787"
      }
     },
     "c482e5ca5be6495cbfe5ee6e25d39329": {
      "model_module": "@jupyter-widgets/controls",
      "model_module_version": "1.5.0",
      "model_name": "DescriptionStyleModel",
      "state": {
       "description_width": ""
      }
     },
     "cbfd553657de4a99aaac1c1803555754": {
      "model_module": "@jupyter-widgets/controls",
      "model_module_version": "1.5.0",
      "model_name": "ButtonStyleModel",
      "state": {}
     },
     "cc70989069da4292be5de912c22545d5": {
      "model_module": "@jupyter-widgets/controls",
      "model_module_version": "1.5.0",
      "model_name": "DescriptionStyleModel",
      "state": {
       "description_width": ""
      }
     },
     "d80effde26674bde8a57532c92a2baf3": {
      "model_module": "@jupyter-widgets/base",
      "model_module_version": "1.2.0",
      "model_name": "LayoutModel",
      "state": {}
     },
     "e0f6347c4d7549c79995472bf693bfba": {
      "model_module": "@jupyter-widgets/controls",
      "model_module_version": "1.5.0",
      "model_name": "DropdownModel",
      "state": {
       "_options_labels": [
        "Kabul International Airport (KBL)",
        "Herat International Airport (HEA)",
        "Mazar-I-Sharif International Airport (MZR)",
        "Kandahar Airport (KDH)",
        "Khost Airport (KHT)",
        "Jalalabad Airport (JAA)",
        "Maimana Airport (MMZ)",
        "Konduz Airport (UND)",
        "Bost Airport (BST)",
        "Faizabad Airport (FBD)",
        "Farah Airport (FAH)",
        "Tarin Kowt Airport (TII)",
        "Zaranj Airport (ZAJ)"
       ],
       "description": "airport",
       "index": 0,
       "layout": "IPY_MODEL_4c3d0fd3d697433a9d5441ac1d11e142",
       "style": "IPY_MODEL_71e69b4a81274ad0ab9b44d369c30a9f"
      }
     },
     "f3ece485a6804d3fa229d7c56828bb42": {
      "model_module": "@jupyter-widgets/controls",
      "model_module_version": "1.5.0",
      "model_name": "DropdownModel",
      "state": {
       "_options_labels": [
        "Afghanistan",
        "Albania",
        "Algeria",
        "American Samoa",
        "Andorra",
        "Angola",
        "Anguilla",
        "Antarctica",
        "Antigua And Barbuda",
        "Argentina",
        "Armenia",
        "Aruba",
        "Australia",
        "Austria",
        "Azerbaijan",
        "Bahamas",
        "Bahrain",
        "Bangladesh",
        "Barbados",
        "Belarus",
        "Belgium",
        "Belize",
        "Benin",
        "Bermuda",
        "Bhutan",
        "Bolivia",
        "Bosnia And Herzegovina",
        "Botswana",
        "Brazil",
        "British Virgin Islands",
        "Brunei",
        "Bulgaria",
        "Burkina Faso",
        "Burma",
        "Burundi",
        "Cambodia",
        "Cameroon",
        "Canada",
        "Cape Verde",
        "Caribbean Netherlands",
        "Cayman Islands",
        "Central African Republic",
        "Chad",
        "Chile",
        "China",
        "Christmas Island",
        "Cocos (Keeling) Islands",
        "Colombia",
        "Comoros",
        "Congo",
        "Cook Islands",
        "Costa Rica",
        "Croatia",
        "Cuba",
        "Curacao",
        "Cyprus",
        "Czech Republic",
        "Denmark",
        "Djibouti",
        "Dominica",
        "Dominican Republic",
        "Ecuador",
        "Egypt",
        "El Salvador",
        "Equatorial Guinea",
        "Eritrea",
        "Estonia",
        "Ethiopia",
        "Falkland Islands (Malvinas)",
        "Faroe Islands",
        "Fiji",
        "Finland",
        "France",
        "French Guiana",
        "French Polynesia",
        "Gabon",
        "Gambia",
        "Georgia",
        "Germany",
        "Ghana",
        "Gibraltar",
        "Greece",
        "Greenland",
        "Grenada",
        "Guadeloupe",
        "Guam",
        "Guatemala",
        "Guernsey",
        "Guinea",
        "Guinea-Bissau",
        "Guyana",
        "Haiti",
        "Honduras",
        "Hong Kong",
        "Hungary",
        "Iceland",
        "India",
        "Indonesia",
        "Iran",
        "Iraq",
        "Ireland",
        "Isle of Man",
        "Israel",
        "Italy",
        "Ivory Coast",
        "Jamaica",
        "Japan",
        "Jersey",
        "Jordan",
        "Kazakhstan",
        "Kenya",
        "Kiribati",
        "Kosovo",
        "Kuwait",
        "Kyrgyzstan",
        "Laos",
        "Latvia",
        "Lebanon",
        "Lesotho",
        "Liberia",
        "Libya",
        "Lithuania",
        "Luxembourg",
        "Macau",
        "Madagascar",
        "Malawi",
        "Malaysia",
        "Maldives",
        "Mali",
        "Malta",
        "Marshall Islands",
        "Martinique",
        "Mauritania",
        "Mauritius",
        "Mayotte",
        "Mexico",
        "Micronesia",
        "Moldova",
        "Monaco",
        "Mongolia",
        "Montenegro",
        "Montserrat",
        "Morocco",
        "Mozambique",
        "Myanmar (Burma)",
        "Namibia",
        "Nauru",
        "Nepal",
        "Netherlands",
        "New Caledonia",
        "New Zealand",
        "Nicaragua",
        "Niger",
        "Nigeria",
        "Niue",
        "Norfolk Island",
        "North Korea",
        "North Macedonia",
        "Northern Mariana Islands",
        "Norway",
        "Oman",
        "Pakistan",
        "Palau",
        "Palestinian Territory",
        "Panama",
        "Papua New Guinea",
        "Paraguay",
        "Perú",
        "Philippines",
        "Poland",
        "Portugal",
        "Puerto Rico",
        "Qatar",
        "Reunion",
        "Romania",
        "Russia",
        "Rwanda",
        "Saint Barthélemy",
        "Saint Helena",
        "Saint Kitts And Nevis",
        "Saint Lucia",
        "Saint Martin",
        "Saint Pierre and Miquelon",
        "Saint Vincent and the Grenadines",
        "Samoa",
        "São Tomé and Principe",
        "Saudi Arabia",
        "Senegal",
        "Serbia",
        "Seychelles",
        "Sierra Leone",
        "Singapore",
        "Sint Maarten",
        "Slovakia",
        "Slovenia",
        "Solomon Islands",
        "Somalia",
        "South Africa",
        "South Korea",
        "South Sudan",
        "Spain",
        "Sri Lanka",
        "Sudan",
        "Suriname",
        "Swaziland",
        "Sweden",
        "Switzerland",
        "Syria",
        "Taiwan",
        "Tajikistan",
        "Tanzania",
        "Thailand",
        "Timor-Leste",
        "Togo",
        "Tonga",
        "Trinidad And Tobago",
        "Tunisia",
        "Turkey",
        "Turkmenistan",
        "Turks and Caicos Islands",
        "Tuvalu",
        "U.S. Virgin Islands",
        "Uganda",
        "Ukraine",
        "United Arab Emirates",
        "United Kingdom",
        "United States",
        "United States Minor Outlying Islands",
        "Uruguay",
        "Uzbekistan",
        "Vanuatu",
        "Venezuela",
        "Vietnam",
        "Wallis And Futuna",
        "Western Sahara",
        "Yemen",
        "Zambia",
        "Zimbabwe"
       ],
       "description": "country",
       "index": 0,
       "layout": "IPY_MODEL_0c878a47882447d586c8289116bbf334",
       "style": "IPY_MODEL_89931102ab8e488a82750486a5e02f04"
      }
     },
     "fa0f1d3056e747e1ad0595e974123f13": {
      "model_module": "@jupyter-widgets/base",
      "model_module_version": "1.2.0",
      "model_name": "LayoutModel",
      "state": {}
     }
    },
    "version_major": 2,
    "version_minor": 0
   }
  }
 },
 "nbformat": 4,
 "nbformat_minor": 4
}
